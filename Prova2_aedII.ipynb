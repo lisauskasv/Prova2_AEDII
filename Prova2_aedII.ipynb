{
 "cells": [
  {
   "cell_type": "code",
   "execution_count": 1,
   "id": "24a2633a-f352-429a-b7af-4d433ef02dc3",
   "metadata": {},
   "outputs": [],
   "source": [
    "def selection_sort(arr):\n",
    "    for i in range(len(arr)):\n",
    "        min_idx = i\n",
    "        for j in range (i + 1, len(arr)):\n",
    "            if arr[j] < arr[ min_idx]:\n",
    "                min_idx = j\n",
    "        arr[i], arr[min_idx] = arr[min_idx], arr[i]\n",
    "    return arr\n",
    "    \n",
    "#Lista Exemplo\n",
    "\n",
    "lista = [29,10,14,37,13]"
   ]
  },
  {
   "cell_type": "code",
   "execution_count": 2,
   "id": "b4d160eb-c212-4835-847a-dcb03914963b",
   "metadata": {},
   "outputs": [
    {
     "name": "stdout",
     "output_type": "stream",
     "text": [
      "Lista Original: [29, 10, 14, 37, 13]\n"
     ]
    }
   ],
   "source": [
    "print(\"Lista Original:\", lista)"
   ]
  },
  {
   "cell_type": "code",
   "execution_count": 3,
   "id": "8f9cf626-5145-452d-bebb-a43e9597d60a",
   "metadata": {},
   "outputs": [
    {
     "name": "stdout",
     "output_type": "stream",
     "text": [
      "Lista Ordenada: [10, 13, 14, 29, 37]\n"
     ]
    }
   ],
   "source": [
    "print(\"Lista Ordenada:\", selection_sort(lista))"
   ]
  },
  {
   "cell_type": "code",
   "execution_count": 5,
   "id": "d9979d60-5d8c-47f9-9622-52db5e2b7c2c",
   "metadata": {},
   "outputs": [
    {
     "name": "stdout",
     "output_type": "stream",
     "text": [
      "Maior elemento da lista: {37}\n"
     ]
    }
   ],
   "source": [
    "#Encontrar e exibir o maior elemento da lista ordenada\n",
    "\n",
    "lista_ordenada = selection_sort(lista)\n",
    "maior_elmto = lista_ordenada[-1]\n",
    "print(\"Maior elemento da lista:\", {maior_elmto})"
   ]
  },
  {
   "cell_type": "code",
   "execution_count": null,
   "id": "5aa4a4a7-dd95-4b10-b9c2-aa1e9df7c6f8",
   "metadata": {},
   "outputs": [],
   "source": []
  }
 ],
 "metadata": {
  "kernelspec": {
   "display_name": "Python 3 (ipykernel)",
   "language": "python",
   "name": "python3"
  },
  "language_info": {
   "codemirror_mode": {
    "name": "ipython",
    "version": 3
   },
   "file_extension": ".py",
   "mimetype": "text/x-python",
   "name": "python",
   "nbconvert_exporter": "python",
   "pygments_lexer": "ipython3",
   "version": "3.12.4"
  }
 },
 "nbformat": 4,
 "nbformat_minor": 5
}
